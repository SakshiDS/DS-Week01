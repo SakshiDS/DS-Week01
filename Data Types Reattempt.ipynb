{
 "cells": [
  {
   "cell_type": "markdown",
   "id": "48c52d74",
   "metadata": {},
   "source": [
    "# Data Types"
   ]
  },
  {
   "cell_type": "code",
   "execution_count": 11,
   "id": "4fe38824",
   "metadata": {},
   "outputs": [
    {
     "name": "stdout",
     "output_type": "stream",
     "text": [
      "Hello\n"
     ]
    }
   ],
   "source": [
    "# integers are whole numbers\n",
    "# floats are decimals \n",
    "\n",
    "print(\"Hello\")\n",
    "\n",
    "a = 12546.1565\n",
    "b = 123\n",
    "c = 3/2"
   ]
  },
  {
   "cell_type": "code",
   "execution_count": 18,
   "id": "ba5e1799",
   "metadata": {},
   "outputs": [
    {
     "name": "stdout",
     "output_type": "stream",
     "text": [
      "Type of a is : <class 'float'>\n",
      "Type of b is : <class 'int'>\n",
      "Type of c is : <class 'float'>\n"
     ]
    }
   ],
   "source": [
    "print(f'Type of a is : {type(a)}')\n",
    "print(f'Type of b is : {type(b)}')\n",
    "print(f'Type of c is : {type(c)}')"
   ]
  },
  {
   "cell_type": "code",
   "execution_count": 65,
   "id": "898b8a91",
   "metadata": {},
   "outputs": [],
   "source": [
    "# Dictionaries are key:value pairs\n",
    "\n",
    "Courses = {\"Salesforce\":1,\"Data Science\":2, \"Data Analysis\":3, \"Sql\":4}\n",
    "Courses_1 = {\"Salesforce\":3,\"Data Science\":1, \"Data Analysis\":2, \"Sql\":4}"
   ]
  },
  {
   "cell_type": "code",
   "execution_count": 66,
   "id": "450d72c2",
   "metadata": {},
   "outputs": [
    {
     "name": "stdout",
     "output_type": "stream",
     "text": [
      "{'Salesforce': 1, 'Data Science': 2, 'Data Analysis': 3, 'Sql': 4}\n",
      "{'Salesforce': 3, 'Data Science': 1, 'Data Analysis': 2, 'Sql': 4}\n",
      "2\n"
     ]
    },
    {
     "data": {
      "text/plain": [
       "4"
      ]
     },
     "execution_count": 66,
     "metadata": {},
     "output_type": "execute_result"
    }
   ],
   "source": [
    "print(Courses) \n",
    "print(Courses_1) \n",
    "print(Courses[\"Data Science\"])\n",
    "Courses[\"Salesforce\"]\n",
    "Courses[\"Sql\"]"
   ]
  },
  {
   "cell_type": "code",
   "execution_count": 29,
   "id": "567c2647",
   "metadata": {},
   "outputs": [
    {
     "name": "stdout",
     "output_type": "stream",
     "text": [
      "<class 'bool'>\n"
     ]
    },
    {
     "data": {
      "text/plain": [
       "True"
      ]
     },
     "execution_count": 29,
     "metadata": {},
     "output_type": "execute_result"
    }
   ],
   "source": [
    "# Boolean\n",
    "\n",
    "Morning_Sun = True\n",
    "Night_Sun = False\n",
    "print(type(Night_Sun))\n",
    "Morning_Sun"
   ]
  },
  {
   "cell_type": "code",
   "execution_count": 77,
   "id": "34afc39b",
   "metadata": {},
   "outputs": [
    {
     "name": "stdout",
     "output_type": "stream",
     "text": [
      "{'Celery', 'Tomatoes', 'Butter', 'Brocolli'}\n"
     ]
    }
   ],
   "source": [
    "# Sets have unordered values and unchangeable values (immutable)\n",
    "Grocery = {\"Tomatoes\",\"Brocolli\",\"Celery\"}\n",
    "# Add items to set but does not allow duplicates\n",
    "Grocery.add(\"Butter\")\n",
    "Grocery.add(\"Celery\") #duplicate\n",
    "print(Grocery)\n",
    "# Grocery[0] # Does not index\n",
    "\n",
    "# Outut is in random order Why?"
   ]
  },
  {
   "cell_type": "code",
   "execution_count": 74,
   "id": "b9568ce9",
   "metadata": {},
   "outputs": [
    {
     "name": "stdout",
     "output_type": "stream",
     "text": [
      "['Car', 'Bike', 'Truck']\n",
      "Bike Truck\n"
     ]
    },
    {
     "data": {
      "text/plain": [
       "'Car'"
      ]
     },
     "execution_count": 74,
     "metadata": {},
     "output_type": "execute_result"
    }
   ],
   "source": [
    "# List values can be changed (mutable) and are ordered\n",
    "\n",
    "Vehicles = [\"Car\",\"Bike\",\"Truck\"]\n",
    "\n",
    "# can't add items to list. Tried ran into error\n",
    "# Vehicles.add[\"Scooter\"]\n",
    "\n",
    "print(Vehicles)\n",
    "Vehicles[0] #Doesn't print output\n",
    "print(Vehicles[1],Vehicles[2])\n",
    "Vehicles[0]"
   ]
  },
  {
   "cell_type": "code",
   "execution_count": 57,
   "id": "b59df274",
   "metadata": {},
   "outputs": [
    {
     "name": "stdout",
     "output_type": "stream",
     "text": [
      "('Monday', 'Wednesday', 'Friday')\n"
     ]
    },
    {
     "data": {
      "text/plain": [
       "'Monday'"
      ]
     },
     "execution_count": 57,
     "metadata": {},
     "output_type": "execute_result"
    }
   ],
   "source": [
    "# Tuples are ordered but are immutable\n",
    "Office_days = (\"Monday\",\"Wednesday\",\"Friday\")\n",
    "# Office_days.add(\"Tuesday\") # Does not allow to add\n",
    "print(Office_days)\n",
    "Office_days[0]"
   ]
  },
  {
   "cell_type": "code",
   "execution_count": 78,
   "id": "80f6553f",
   "metadata": {},
   "outputs": [
    {
     "name": "stdout",
     "output_type": "stream",
     "text": [
      "4\n"
     ]
    }
   ],
   "source": [
    "# Length\n",
    "print(len(Courses))"
   ]
  },
  {
   "cell_type": "code",
   "execution_count": 81,
   "id": "175cf032",
   "metadata": {},
   "outputs": [
    {
     "name": "stdout",
     "output_type": "stream",
     "text": [
      "4\n",
      "3\n",
      "3\n"
     ]
    }
   ],
   "source": [
    "print(len(Grocery))\n",
    "print(len(Vehicles))\n",
    "print(len(Office_days))"
   ]
  },
  {
   "cell_type": "code",
   "execution_count": 82,
   "id": "a022efd8",
   "metadata": {},
   "outputs": [
    {
     "name": "stdout",
     "output_type": "stream",
     "text": [
      "Enter a number : 97568\n",
      "Even\n"
     ]
    }
   ],
   "source": [
    "# Flow Control\n",
    "num = int(input(\"Enter a number : \"))\n",
    "\n",
    "if num % 2 == 0:\n",
    "    print (\"Even\")\n",
    "else:\n",
    "    print(\"Odd\")\n",
    "    \n",
    "# Ran the commands as in slide and troubleshooted from there"
   ]
  },
  {
   "cell_type": "code",
   "execution_count": null,
   "id": "b003d5bd",
   "metadata": {},
   "outputs": [],
   "source": []
  },
  {
   "cell_type": "code",
   "execution_count": null,
   "id": "6abd4386",
   "metadata": {},
   "outputs": [],
   "source": []
  }
 ],
 "metadata": {
  "kernelspec": {
   "display_name": "Python 3 (ipykernel)",
   "language": "python",
   "name": "python3"
  },
  "language_info": {
   "codemirror_mode": {
    "name": "ipython",
    "version": 3
   },
   "file_extension": ".py",
   "mimetype": "text/x-python",
   "name": "python",
   "nbconvert_exporter": "python",
   "pygments_lexer": "ipython3",
   "version": "3.8.10"
  }
 },
 "nbformat": 4,
 "nbformat_minor": 5
}
