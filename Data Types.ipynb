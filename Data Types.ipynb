{
 "cells": [
  {
   "cell_type": "markdown",
   "id": "48c52d74",
   "metadata": {},
   "source": [
    "# Data Types"
   ]
  },
  {
   "cell_type": "code",
   "execution_count": 4,
   "id": "4fe38824",
   "metadata": {},
   "outputs": [],
   "source": [
    "# integers are whole numbers\n",
    "# floats are decimals \n",
    "\n",
    "x = 5\n",
    "y = 5.0"
   ]
  },
  {
   "cell_type": "code",
   "execution_count": 5,
   "id": "ba5e1799",
   "metadata": {},
   "outputs": [
    {
     "name": "stdout",
     "output_type": "stream",
     "text": [
      "<class 'int'>\n"
     ]
    }
   ],
   "source": [
    "print(type(x))"
   ]
  },
  {
   "cell_type": "code",
   "execution_count": 6,
   "id": "898b8a91",
   "metadata": {},
   "outputs": [
    {
     "name": "stdout",
     "output_type": "stream",
     "text": [
      "<class 'float'>\n"
     ]
    }
   ],
   "source": [
    "print(type(y))"
   ]
  },
  {
   "cell_type": "code",
   "execution_count": 7,
   "id": "450d72c2",
   "metadata": {},
   "outputs": [],
   "source": [
    "# Dictionaries are key:value pairs\n",
    "breakfast = {\"eggs\":18,\"bacon\":10}"
   ]
  },
  {
   "cell_type": "code",
   "execution_count": 8,
   "id": "567c2647",
   "metadata": {},
   "outputs": [
    {
     "name": "stdout",
     "output_type": "stream",
     "text": [
      "18\n"
     ]
    }
   ],
   "source": [
    "print(breakfast[\"eggs\"])"
   ]
  },
  {
   "cell_type": "code",
   "execution_count": 10,
   "id": "2bbc3179",
   "metadata": {},
   "outputs": [
    {
     "name": "stdout",
     "output_type": "stream",
     "text": [
      "<class 'bool'>\n"
     ]
    }
   ],
   "source": [
    "# Boolean\n",
    "is_true = False\n",
    "print(type(is_true))"
   ]
  },
  {
   "cell_type": "code",
   "execution_count": 11,
   "id": "b9568ce9",
   "metadata": {},
   "outputs": [
    {
     "name": "stdout",
     "output_type": "stream",
     "text": [
      "{'bacon', 'coffee', 'eggs'}\n"
     ]
    }
   ],
   "source": [
    "# Sets have unordered values and unchangeable values (immutable)\n",
    "breakfast_set = {\"eggs\",\"bacon\"}\n",
    "# Can add items to set but does not allow duplicates\n",
    "breakfast_set.add(\"coffee\")\n",
    "\n",
    "print(breakfast_set)"
   ]
  },
  {
   "cell_type": "code",
   "execution_count": 13,
   "id": "b59df274",
   "metadata": {},
   "outputs": [
    {
     "data": {
      "text/plain": [
       "'January'"
      ]
     },
     "execution_count": 13,
     "metadata": {},
     "output_type": "execute_result"
    }
   ],
   "source": [
    "# List values can be changed (mutable) and are ordered\n",
    "months = [\"January\",\"February\",\"March\"]\n",
    "months[0]"
   ]
  },
  {
   "cell_type": "code",
   "execution_count": 14,
   "id": "80f6553f",
   "metadata": {},
   "outputs": [
    {
     "data": {
      "text/plain": [
       "'coffee'"
      ]
     },
     "execution_count": 14,
     "metadata": {},
     "output_type": "execute_result"
    }
   ],
   "source": [
    "# Tuples are ordered but are immutable\n",
    "breakfast_tuple = (\"coffee\",\"bagels\",\"cereals\")\n",
    "breakfast_tuple[0]"
   ]
  },
  {
   "cell_type": "code",
   "execution_count": 16,
   "id": "175cf032",
   "metadata": {},
   "outputs": [
    {
     "name": "stdout",
     "output_type": "stream",
     "text": [
      "3\n"
     ]
    }
   ],
   "source": [
    "# Length\n",
    "print(len(breakfast_tuple))"
   ]
  },
  {
   "cell_type": "code",
   "execution_count": null,
   "id": "a022efd8",
   "metadata": {},
   "outputs": [],
   "source": []
  }
 ],
 "metadata": {
  "kernelspec": {
   "display_name": "Python 3 (ipykernel)",
   "language": "python",
   "name": "python3"
  },
  "language_info": {
   "codemirror_mode": {
    "name": "ipython",
    "version": 3
   },
   "file_extension": ".py",
   "mimetype": "text/x-python",
   "name": "python",
   "nbconvert_exporter": "python",
   "pygments_lexer": "ipython3",
   "version": "3.8.10"
  }
 },
 "nbformat": 4,
 "nbformat_minor": 5
}
