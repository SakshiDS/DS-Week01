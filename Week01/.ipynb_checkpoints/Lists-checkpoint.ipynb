{
 "cells": [
  {
   "cell_type": "code",
   "execution_count": 58,
   "id": "6bce6a49",
   "metadata": {},
   "outputs": [],
   "source": [
    "# Non-Primitive Data Structures Practice\n",
    "\n",
    "\n",
    "# Lists\n",
    "\n",
    "num = [1,2,3,4,5,8,9]\n",
    "\n",
    "char = ['a','A','b','B','c','c','D','D']"
   ]
  },
  {
   "cell_type": "code",
   "execution_count": 59,
   "id": "5812d6dc",
   "metadata": {},
   "outputs": [
    {
     "name": "stdout",
     "output_type": "stream",
     "text": [
      "[1, 2, 3, 4, 5, 8, 9, 10]\n"
     ]
    }
   ],
   "source": [
    "# add to list\n",
    "\n",
    "num.append(10)\n",
    "\n",
    "print (num)"
   ]
  },
  {
   "cell_type": "code",
   "execution_count": 60,
   "id": "5c372e03",
   "metadata": {},
   "outputs": [
    {
     "name": "stdout",
     "output_type": "stream",
     "text": [
      "[1, 2, 3, 4, 5, 6, 7, 8, 9, 10]\n"
     ]
    }
   ],
   "source": [
    "# add at a specific position in list\n",
    "\n",
    "num.insert(5,6)\n",
    "\n",
    "num.insert(6,7)\n",
    "\n",
    "print (num)"
   ]
  },
  {
   "cell_type": "code",
   "execution_count": 61,
   "id": "d7cb6525",
   "metadata": {},
   "outputs": [
    {
     "name": "stdout",
     "output_type": "stream",
     "text": [
      "['a', 'A', 'b', 'B', 'c', 'c', 'D', 'D']\n"
     ]
    }
   ],
   "source": [
    "print (char)"
   ]
  },
  {
   "cell_type": "code",
   "execution_count": 62,
   "id": "27776905",
   "metadata": {},
   "outputs": [
    {
     "name": "stdout",
     "output_type": "stream",
     "text": [
      "['a', 'A', 'b', 'B', 'c', 'D', 'D']\n"
     ]
    }
   ],
   "source": [
    "# Remove an item from list. List allows duplicates so it will remove only the first occourence\n",
    "\n",
    "char.remove('c')\n",
    "\n",
    "print (char)"
   ]
  },
  {
   "cell_type": "code",
   "execution_count": 63,
   "id": "443e5da4",
   "metadata": {},
   "outputs": [
    {
     "name": "stdout",
     "output_type": "stream",
     "text": [
      "['a', 'A', 'b', 'B', 'c', 'D', 'D']\n",
      "['a', 'A', 'b', 'B', 'c', 'D']\n"
     ]
    }
   ],
   "source": [
    "print (char)\n",
    "\n",
    "char.pop(-2)\n",
    "\n",
    "print (char)\n",
    "\n"
   ]
  },
  {
   "cell_type": "code",
   "execution_count": 64,
   "id": "3e7887ec",
   "metadata": {},
   "outputs": [
    {
     "name": "stdout",
     "output_type": "stream",
     "text": [
      "['a', 'A', 'b', 'B', 'c', 'd', 'D']\n"
     ]
    }
   ],
   "source": [
    "char.insert(-1,'d')\n",
    "\n",
    "print (char)"
   ]
  },
  {
   "cell_type": "code",
   "execution_count": 65,
   "id": "831d2fae",
   "metadata": {},
   "outputs": [
    {
     "name": "stdout",
     "output_type": "stream",
     "text": [
      "['a', 'A', 'b', 'B', 'c', 'C', 'd', 'D']\n"
     ]
    }
   ],
   "source": [
    "char.insert(-2,'C')\n",
    "\n",
    "print (char)"
   ]
  },
  {
   "cell_type": "code",
   "execution_count": 66,
   "id": "36cc685b",
   "metadata": {},
   "outputs": [],
   "source": [
    "list.reverse(num)"
   ]
  },
  {
   "cell_type": "code",
   "execution_count": 67,
   "id": "32211ad4",
   "metadata": {},
   "outputs": [
    {
     "name": "stdout",
     "output_type": "stream",
     "text": [
      "[10, 9, 8, 7, 6, 5, 4, 3, 2, 1]\n"
     ]
    }
   ],
   "source": [
    "print (num)"
   ]
  },
  {
   "cell_type": "code",
   "execution_count": 68,
   "id": "8f660adb",
   "metadata": {},
   "outputs": [],
   "source": [
    "char.sort()"
   ]
  },
  {
   "cell_type": "code",
   "execution_count": 69,
   "id": "978b18b4",
   "metadata": {},
   "outputs": [
    {
     "name": "stdout",
     "output_type": "stream",
     "text": [
      "['A', 'B', 'C', 'D', 'a', 'b', 'c', 'd']\n"
     ]
    }
   ],
   "source": [
    "print (char)"
   ]
  },
  {
   "cell_type": "code",
   "execution_count": 70,
   "id": "b4f807da",
   "metadata": {},
   "outputs": [
    {
     "name": "stdout",
     "output_type": "stream",
     "text": [
      "[1, 2, 3, 4, 5, 6, 7, 8, 9, 10]\n"
     ]
    }
   ],
   "source": [
    "num.sort()\n",
    "print(num)"
   ]
  },
  {
   "cell_type": "code",
   "execution_count": null,
   "id": "dc3f3316",
   "metadata": {},
   "outputs": [],
   "source": []
  }
 ],
 "metadata": {
  "kernelspec": {
   "display_name": "Python 3 (ipykernel)",
   "language": "python",
   "name": "python3"
  },
  "language_info": {
   "codemirror_mode": {
    "name": "ipython",
    "version": 3
   },
   "file_extension": ".py",
   "mimetype": "text/x-python",
   "name": "python",
   "nbconvert_exporter": "python",
   "pygments_lexer": "ipython3",
   "version": "3.8.10"
  }
 },
 "nbformat": 4,
 "nbformat_minor": 5
}
