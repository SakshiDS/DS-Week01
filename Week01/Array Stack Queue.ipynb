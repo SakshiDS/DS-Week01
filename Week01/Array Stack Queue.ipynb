{
 "cells": [
  {
   "cell_type": "code",
   "execution_count": 1,
   "id": "76c54cfb",
   "metadata": {},
   "outputs": [],
   "source": [
    "# Array #NumPy"
   ]
  },
  {
   "cell_type": "code",
   "execution_count": 2,
   "id": "a298af88",
   "metadata": {},
   "outputs": [
    {
     "name": "stdout",
     "output_type": "stream",
     "text": [
      "[1. 2. 3.]\n"
     ]
    }
   ],
   "source": [
    "import numpy as np\n",
    "\n",
    "arr_a = np.array([3,6,9])\n",
    "\n",
    "arr_b = arr_a/3 # performing element wise operations\n",
    "\n",
    "print(arr_b)"
   ]
  },
  {
   "cell_type": "code",
   "execution_count": 3,
   "id": "8e4f874b",
   "metadata": {},
   "outputs": [
    {
     "name": "stdout",
     "output_type": "stream",
     "text": [
      "[1. 1. 1. 1.]\n"
     ]
    }
   ],
   "source": [
    "arr_ones = np.ones(4)\n",
    "print(arr_ones)"
   ]
  },
  {
   "cell_type": "code",
   "execution_count": 4,
   "id": "9a9e0458",
   "metadata": {},
   "outputs": [
    {
     "name": "stdout",
     "output_type": "stream",
     "text": [
      "[[1. 1. 1. 1.]\n",
      " [1. 1. 1. 1.]\n",
      " [1. 1. 1. 1.]]\n"
     ]
    }
   ],
   "source": [
    "multi_arr_ones = np.ones((3,4)) # Creating a 2D array with 3 rows and 4 columns\n",
    "\n",
    "print (multi_arr_ones)"
   ]
  },
  {
   "cell_type": "code",
   "execution_count": 5,
   "id": "109a3cb2",
   "metadata": {},
   "outputs": [
    {
     "name": "stdout",
     "output_type": "stream",
     "text": [
      "[1, 2, 3, 4, 5, 6]\n"
     ]
    }
   ],
   "source": [
    "# Linear Lists # Stacks and Queues\n",
    "\n",
    "ls = [1,2,3,4,5]\n",
    "\n",
    "ls.append(6)\n",
    "\n",
    "print (ls)\n"
   ]
  },
  {
   "cell_type": "code",
   "execution_count": 6,
   "id": "40769aa3",
   "metadata": {},
   "outputs": [
    {
     "name": "stdout",
     "output_type": "stream",
     "text": [
      "[1, 2, 3, 4, 5]\n",
      "[1, 2, 3, 4]\n"
     ]
    }
   ],
   "source": [
    "ls.pop()\n",
    "\n",
    "print(ls)\n",
    "\n",
    "ls.pop()\n",
    "\n",
    "print(ls)"
   ]
  },
  {
   "cell_type": "code",
   "execution_count": 9,
   "id": "3b1fbd38",
   "metadata": {},
   "outputs": [
    {
     "name": "stdout",
     "output_type": "stream",
     "text": [
      "[2, 3, 4]\n"
     ]
    }
   ],
   "source": [
    "# Convert this to queue?\n",
    "\n",
    "ls.pop(0)\n",
    "\n",
    "print (ls)"
   ]
  },
  {
   "cell_type": "code",
   "execution_count": 16,
   "id": "3cd91097",
   "metadata": {},
   "outputs": [
    {
     "name": "stdout",
     "output_type": "stream",
     "text": [
      "deque([1, 2, 3])\n",
      "1\n",
      "deque([2, 3])\n"
     ]
    }
   ],
   "source": [
    "from collections import deque\n",
    "\n",
    "ls = deque()\n",
    "\n",
    "ls.append(1)\n",
    "ls.append(2)\n",
    "ls.append(3)\n",
    "\n",
    "print (ls)\n",
    "\n",
    "print (ls.popleft())\n",
    "\n",
    "print (ls)"
   ]
  },
  {
   "cell_type": "code",
   "execution_count": 39,
   "id": "333ce3b8",
   "metadata": {},
   "outputs": [
    {
     "name": "stdout",
     "output_type": "stream",
     "text": [
      "0\n",
      "5\n",
      "deque([1, 2, 3, 4, 5])\n",
      "deque([2, 3, 4, 5])\n"
     ]
    }
   ],
   "source": [
    "from queue import Queue\n",
    "\n",
    "ls = Queue(maxsize = 7)\n",
    "\n",
    "print (ls.qsize())\n",
    "\n",
    "ls.put(1)\n",
    "ls.put(2)\n",
    "ls.put(3)\n",
    "ls.put(4)\n",
    "ls.put(5)\n",
    "\n",
    "print (ls.qsize())\n",
    "\n",
    "print (ls.queue)\n",
    "\n",
    "ls.get()\n",
    "\n",
    "print (ls.queue)\n"
   ]
  },
  {
   "cell_type": "code",
   "execution_count": null,
   "id": "d44b1ae1",
   "metadata": {},
   "outputs": [],
   "source": []
  }
 ],
 "metadata": {
  "kernelspec": {
   "display_name": "Python 3 (ipykernel)",
   "language": "python",
   "name": "python3"
  },
  "language_info": {
   "codemirror_mode": {
    "name": "ipython",
    "version": 3
   },
   "file_extension": ".py",
   "mimetype": "text/x-python",
   "name": "python",
   "nbconvert_exporter": "python",
   "pygments_lexer": "ipython3",
   "version": "3.8.10"
  }
 },
 "nbformat": 4,
 "nbformat_minor": 5
}
