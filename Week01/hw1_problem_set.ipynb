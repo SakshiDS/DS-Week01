{
 "cells": [
  {
   "cell_type": "markdown",
   "metadata": {},
   "source": [
    "### Homework 1\n",
    "\n",
    "Skim this Homework before you do your reading assignments. It will help focus your attention. \n",
    "\n",
    "Provide written answers to questions with a `#comment`. \n",
    "\n",
    "Answer the following question **first**. The rest may be completed in any order."
   ]
  },
  {
   "cell_type": "markdown",
   "metadata": {},
   "source": [
    "1. How can you get more information about a function or an object from inside a jupyter cell? "
   ]
  },
  {
   "cell_type": "code",
   "execution_count": 54,
   "metadata": {},
   "outputs": [],
   "source": [
    "# using help(). Specifying the object/attribute/module inside help paranthesis will return it's specific information"
   ]
  },
  {
   "cell_type": "markdown",
   "metadata": {},
   "source": [
    "2. How can you determine the data type of an object? "
   ]
  },
  {
   "cell_type": "code",
   "execution_count": 55,
   "metadata": {},
   "outputs": [],
   "source": [
    "# using type() . We can mention the value itself or the variable in paranthesis and type () will return its data type"
   ]
  },
  {
   "cell_type": "markdown",
   "metadata": {},
   "source": [
    "3. Assign a variable named `foo` and give it a value of `'bar'`. Oh, and what is assignment?"
   ]
  },
  {
   "cell_type": "code",
   "execution_count": 56,
   "metadata": {},
   "outputs": [
    {
     "name": "stdout",
     "output_type": "stream",
     "text": [
      "bar\n",
      "<class 'str'>\n"
     ]
    }
   ],
   "source": [
    "foo = 'bar'\n",
    "print (foo)\n",
    "print (type(foo))\n",
    "\n",
    "# A single '=' sign is used to assign a value to a variable. value can be of any data type."
   ]
  },
  {
   "cell_type": "markdown",
   "metadata": {},
   "source": [
    "4. What is a data structure in another language that is not built into python? Does python have a similar data structure that may serve the same purpose? "
   ]
  },
  {
   "cell_type": "code",
   "execution_count": 57,
   "metadata": {},
   "outputs": [],
   "source": [
    "# Array. In Python Lists are used to build arrays."
   ]
  },
  {
   "cell_type": "markdown",
   "metadata": {},
   "source": [
    "5. You have an assortment of items you will need to keep track of. What would be a good data structure to keep them in? Provide an example."
   ]
  },
  {
   "cell_type": "code",
   "execution_count": 58,
   "metadata": {},
   "outputs": [
    {
     "name": "stdout",
     "output_type": "stream",
     "text": [
      "['Hello', 10, False, 10.11]\n",
      "<class 'str'> <class 'int'> <class 'bool'> <class 'float'>\n"
     ]
    }
   ],
   "source": [
    "# List can be used to save variety of values. As list uses indexing it is easy to keep track of different items in a list\n",
    "\n",
    "list_1 = [\"Hello\", 10, False, 10.11]\n",
    "print (list_1)\n",
    "print (type(list_1[0]), type(list_1[1]), type(list_1[2]), type(list_1[3]))"
   ]
  },
  {
   "cell_type": "markdown",
   "metadata": {},
   "source": [
    "6. You have an assortment of names and telephone numbers. What might be a good data structure to keep them in? Show an example. "
   ]
  },
  {
   "cell_type": "code",
   "execution_count": 59,
   "metadata": {},
   "outputs": [
    {
     "name": "stdout",
     "output_type": "stream",
     "text": [
      "231\n"
     ]
    }
   ],
   "source": [
    "# Dictionary is a good way to store names and telephone numbers as key:value pairs\n",
    "\n",
    "# In Below examples I am storing offic extension number of emplyees in variable office_num\n",
    "\n",
    "office_num = {'Anne':230, 'Briana':231, 'Caroline':233, 'Nicole':234}\n",
    "\n",
    "print (office_num['Briana'])"
   ]
  },
  {
   "cell_type": "markdown",
   "metadata": {},
   "source": [
    "7. You need to create a copy of an important list and alter the copy. Why is the following code a bad idea? "
   ]
  },
  {
   "cell_type": "code",
   "execution_count": 15,
   "metadata": {},
   "outputs": [],
   "source": [
    "list1 = [1,2,3]\n",
    "list2 = list1\n",
    "list2[0]= 9"
   ]
  },
  {
   "cell_type": "code",
   "execution_count": 17,
   "metadata": {},
   "outputs": [
    {
     "name": "stdout",
     "output_type": "stream",
     "text": [
      "Changes made to list2 are visible in list 1 too:  [9, 2, 3]\n",
      "list 1 remains unchanged after copy_list is updated:  [9, 2, 3]\n",
      "Contents of copy_list : [9, 1, 3]\n"
     ]
    }
   ],
   "source": [
    "# This is a bad idea as list2 in above case is a pointer to list1. Any changes to list2 will be made in list1 too\n",
    "print ('Changes made to list2 are visible in list 1 too: ',list1)\n",
    "\n",
    "# To make a copy of the list we can use copy() function\n",
    "copy_list = list1.copy()\n",
    "copy_list[1] = 1\n",
    "print('list 1 remains unchanged after copy_list is updated: ',list1)\n",
    "print('Contents of copy_list :',copy_list)"
   ]
  },
  {
   "cell_type": "markdown",
   "metadata": {},
   "source": [
    "8. What is truthy and falsey? Provide a list example and a string example. "
   ]
  },
  {
   "cell_type": "code",
   "execution_count": 62,
   "metadata": {},
   "outputs": [
    {
     "name": "stdout",
     "output_type": "stream",
     "text": [
      "tlist is :True\n",
      "flist is :False\n",
      "when a mathematical expression returns 0 :False\n",
      "tlist is not empty - Truthy\n",
      "flist is empty - Falsy\n"
     ]
    }
   ],
   "source": [
    "# Statements that evaluate to Truth and False. An empty string/list/set,etc or an int/float of value 0 evaluates to False \n",
    "\n",
    "# in an If else construct, Truthy staement is used in If and falsy for else.\n",
    "\n",
    "#Evaluating bool values\n",
    "\n",
    "tlist = [1,2,3]\n",
    "flist = []\n",
    "print ('tlist is :' + str(bool(tlist)))\n",
    "print ('flist is :' + str(bool(flist)))\n",
    "\n",
    "x = 2.0\n",
    "\n",
    "print ('when a mathematical expression returns 0 :' + str((bool(x-2.0))))\n",
    "\n",
    "\n",
    "#Using in if..else construct\n",
    "\n",
    "if tlist:\n",
    "    print ('tlist is not empty - Truthy')\n",
    "else:\n",
    "    print ('tlist is empty - Falsy')\n",
    "    \n",
    "if flist:\n",
    "    print ('flist is not empty - Truthy')\n",
    "else:\n",
    "    print ('flist is empty - Falsy')"
   ]
  },
  {
   "cell_type": "markdown",
   "metadata": {},
   "source": [
    "9. What is the difference between a dynamically typed and statically typed language? \n",
    "\n",
    "Which one is python? \n",
    "\n",
    "When is that a good thing? \n",
    "\n",
    "When is that a bad thing? "
   ]
  },
  {
   "cell_type": "code",
   "execution_count": 63,
   "metadata": {},
   "outputs": [],
   "source": [
    "# In statically tupe language the data type needs to be explicitly mentioned while coding.\n",
    "# While in dynamically typed the data type is determined at runtime\n",
    "\n",
    "# Python is dynamically typed\n",
    "\n",
    "# Dynamically typed is a good thing for writing code. Makes it easier to write code and gives lots of flexibility\n",
    "\n",
    "# It's a bad thing as it costs performance. And any unacceptable usage of code is only highlighted ar runtime."
   ]
  },
  {
   "cell_type": "markdown",
   "metadata": {},
   "source": [
    "10. Here is a [link](https://docs.python.org/3/library/functions.html) to the python `built-in functions`. Choose 2 and give an example of how to use them. "
   ]
  },
  {
   "cell_type": "code",
   "execution_count": null,
   "metadata": {},
   "outputs": [
    {
     "name": "stdout",
     "output_type": "stream",
     "text": [
      "Printing enumerate as list:\n",
      "[(1, 'Sunday'), (2, 'Monday'), (3, 'Tuesday'), (4, 'Wednesday'), (5, 'Thursday'), (6, 'Friday'), (7, 'Saturday')]\n"
     ]
    }
   ],
   "source": [
    "# enumerate() and staticmethod()\n",
    "\n",
    "# enumerate()\n",
    "# Can be used for iterable values in a list to assign an index. Default starting is 0 else we can mention explicitly\n",
    "# it is useful when working with list in a loop construct\n",
    "\n",
    "days = ['Sunday','Monday','Tuesday','Wednesday','Thursday','Friday','Saturday']\n",
    "\n",
    "enum_days = enumerate(days, start=1)\n",
    "\n",
    "print('Printing enumerate as list:')\n",
    "print(list(enum_days))\n",
    "      \n",
    "# format()\n",
    "# Can be used for complex string formatting. format value is replaced by placeholder {}\n",
    "\n",
    "# Example below shows use of format method to dynamically change the string output as per the input received\n",
    "\n",
    "intro = 'My name is {}'\n",
    "xyz = input('Please enter your name ')\n",
    "print (intro.format(xyz))"
   ]
  },
  {
   "cell_type": "markdown",
   "metadata": {},
   "source": [
    "11. I need to know if an integer is odd or even. What `operator` might help me do that? "
   ]
  },
  {
   "cell_type": "code",
   "execution_count": 26,
   "metadata": {},
   "outputs": [],
   "source": [
    "# moldulus operator % "
   ]
  },
  {
   "cell_type": "markdown",
   "metadata": {},
   "source": [
    "12. What is an operator? "
   ]
  },
  {
   "cell_type": "code",
   "execution_count": null,
   "metadata": {},
   "outputs": [],
   "source": [
    "# Opertor is a symbol used for Arithmatic or logical operation"
   ]
  },
  {
   "cell_type": "markdown",
   "metadata": {},
   "source": [
    "13. What is a data type in another language does not exist in python? Does python have a similar data type"
   ]
  },
  {
   "cell_type": "code",
   "execution_count": null,
   "metadata": {},
   "outputs": [],
   "source": [
    "# Char data type does not exist in python. In python char is a string of length 1."
   ]
  },
  {
   "cell_type": "markdown",
   "metadata": {},
   "source": [
    "14. What is a python expression? And what does it evalute to? "
   ]
  },
  {
   "cell_type": "code",
   "execution_count": null,
   "metadata": {},
   "outputs": [],
   "source": [
    "# Python expression is when at run time evaluates the data types involved and returns a value\n",
    "# Python expression evaluates to an output \n",
    "# a print method with a string for output just prints what's mentioned and hence is not an expression"
   ]
  },
  {
   "cell_type": "markdown",
   "metadata": {},
   "source": [
    "15. Provide an expression that evaluates which variable is greater. (Hint: you can just test them and don't need to say which is greater)"
   ]
  },
  {
   "cell_type": "code",
   "execution_count": 1,
   "metadata": {},
   "outputs": [
    {
     "data": {
      "text/plain": [
       "False"
      ]
     },
     "execution_count": 1,
     "metadata": {},
     "output_type": "execute_result"
    }
   ],
   "source": [
    "foo = 23\n",
    "bar = 48\n",
    "\n",
    "foo > bar #expression"
   ]
  },
  {
   "cell_type": "markdown",
   "metadata": {},
   "source": [
    "16. Provide an if statement (inside the provided for loop) that prints 'even' if the number is even, 'odd' if the number is odd and 'three' if the number is 3."
   ]
  },
  {
   "cell_type": "code",
   "execution_count": 4,
   "metadata": {},
   "outputs": [
    {
     "name": "stdout",
     "output_type": "stream",
     "text": [
      "odd\n",
      "even\n",
      "three\n",
      "even\n",
      "odd\n",
      "even\n",
      "odd\n",
      "even\n",
      "odd\n"
     ]
    }
   ],
   "source": [
    "my_list = [1,2,3,4,5,6,7,8,9]\n",
    "for i in my_list:\n",
    "        \n",
    "    \n",
    "    if i % 2 == 0:\n",
    "        print(\"even\")\n",
    "    elif i == 3:\n",
    "        print(\"three\")\n",
    "    else:\n",
    "        print(\"odd\")\n",
    "        \n",
    "    #Be sure to indent the statement\n",
    "    #And delete the word 'pass'"
   ]
  },
  {
   "cell_type": "markdown",
   "metadata": {},
   "source": [
    "17. What is the equal operator? `# comment it out`\n",
    "And show an example of how it is used. "
   ]
  },
  {
   "cell_type": "code",
   "execution_count": 18,
   "metadata": {},
   "outputs": [
    {
     "data": {
      "text/plain": [
       "True"
      ]
     },
     "execution_count": 18,
     "metadata": {},
     "output_type": "execute_result"
    }
   ],
   "source": [
    "# A single equal '=' operator is used for assignment and '==' operator is used to check equality and returns a boolean value\n",
    "\n",
    "a = 5\n",
    "b = 5\n",
    "#Checking equality\n",
    "a == b"
   ]
  },
  {
   "cell_type": "markdown",
   "metadata": {},
   "source": [
    "18. What is the less than equal to operator? And show an example of how it is used. "
   ]
  },
  {
   "cell_type": "code",
   "execution_count": 39,
   "metadata": {},
   "outputs": [
    {
     "name": "stdout",
     "output_type": "stream",
     "text": [
      "True\n",
      "True\n"
     ]
    }
   ],
   "source": [
    "# '<=' checks if the value of the variable on left is less than equal to value of the variable on right and returns a boolean value \n",
    "c = 7\n",
    "print (a<=b)\n",
    "print (a<=c)"
   ]
  },
  {
   "cell_type": "markdown",
   "metadata": {},
   "source": [
    "19. What is the modulo remainder operator? And show an example of how it is used. "
   ]
  },
  {
   "cell_type": "code",
   "execution_count": 43,
   "metadata": {},
   "outputs": [
    {
     "name": "stdout",
     "output_type": "stream",
     "text": [
      "Enter a number to check if it is divisible by 5 25\n",
      "25 is divisible by 5\n"
     ]
    }
   ],
   "source": [
    "# '%' operator returns the remainder value when variable on left in divided by variable on right\n",
    "\n",
    "\n",
    "# using variable to check if the input number is divisible by 5\n",
    "\n",
    "d5 = int(input('Enter a number to check if it is divisible by 5 '))\n",
    "\n",
    "if d5 % 5 == 0:\n",
    "    print(d5,'is divisible by 5')\n",
    "else:\n",
    "    print(d5,'is not divisible by 5')"
   ]
  },
  {
   "cell_type": "markdown",
   "metadata": {},
   "source": [
    "20. What is the floored division operator? And show an example of how it is used. "
   ]
  },
  {
   "cell_type": "code",
   "execution_count": 10,
   "metadata": {},
   "outputs": [
    {
     "name": "stdout",
     "output_type": "stream",
     "text": [
      "4\n",
      "4.0\n",
      "4\n",
      "-5.0\n"
     ]
    }
   ],
   "source": [
    "# Floored division operator // provides the closest the whole value of an integer or a float\n",
    "# When returning a negative value the closest floor value is different from a positive value\n",
    "\n",
    "print (21//5)\n",
    "print (21.0//5.0)\n",
    "print (-21//-5)\n",
    "print (-21.0//5)"
   ]
  },
  {
   "cell_type": "markdown",
   "metadata": {},
   "source": [
    "21. Why is this assigment not a good idea? (Hint: focus on the word hex)"
   ]
  },
  {
   "cell_type": "code",
   "execution_count": 3,
   "metadata": {},
   "outputs": [
    {
     "ename": "TypeError",
     "evalue": "'str' object is not callable",
     "output_type": "error",
     "traceback": [
      "\u001b[1;31m---------------------------------------------------------------------------\u001b[0m",
      "\u001b[1;31mTypeError\u001b[0m                                 Traceback (most recent call last)",
      "\u001b[1;32m~\\AppData\\Local\\Temp/ipykernel_12648/1498423422.py\u001b[0m in \u001b[0;36m<module>\u001b[1;34m\u001b[0m\n\u001b[0;32m      4\u001b[0m \u001b[1;31m# if I try to use this function now, python won't allow me as hex is declared as a variable above\u001b[0m\u001b[1;33m\u001b[0m\u001b[1;33m\u001b[0m\u001b[1;33m\u001b[0m\u001b[0m\n\u001b[0;32m      5\u001b[0m \u001b[1;33m\u001b[0m\u001b[0m\n\u001b[1;32m----> 6\u001b[1;33m \u001b[0mhex\u001b[0m\u001b[1;33m(\u001b[0m\u001b[1;36m5\u001b[0m\u001b[1;33m)\u001b[0m \u001b[1;31m#Will reurn an error as hex is now overridden as string variable\u001b[0m\u001b[1;33m\u001b[0m\u001b[1;33m\u001b[0m\u001b[0m\n\u001b[0m",
      "\u001b[1;31mTypeError\u001b[0m: 'str' object is not callable"
     ]
    }
   ],
   "source": [
    "hex = 'some text value'  \n",
    "# Using hex as a variable is not a good idea as hex is an exisitng function in python\n",
    "# hex is used to convert integer into its hexadecimal value\n",
    "# if I try to use this function now, python won't allow me as hex is declared as a variable above\n",
    "\n",
    "hex(5) #Will reurn an error as hex is now overridden as string variable"
   ]
  },
  {
   "cell_type": "markdown",
   "metadata": {},
   "source": [
    "22. Why does the following give an error? Show an example of how to fix it."
   ]
  },
  {
   "cell_type": "code",
   "execution_count": 6,
   "metadata": {},
   "outputs": [
    {
     "ename": "SyntaxError",
     "evalue": "invalid syntax (Temp/ipykernel_16420/4150477088.py, line 1)",
     "output_type": "error",
     "traceback": [
      "\u001b[1;36m  File \u001b[1;32m\"C:\\Users\\saksh\\AppData\\Local\\Temp/ipykernel_16420/4150477088.py\"\u001b[1;36m, line \u001b[1;32m1\u001b[0m\n\u001b[1;33m    2cars = ('Ferarri', 'Mustang') # First character of a variable cannot be a digit\u001b[0m\n\u001b[1;37m     ^\u001b[0m\n\u001b[1;31mSyntaxError\u001b[0m\u001b[1;31m:\u001b[0m invalid syntax\n"
     ]
    }
   ],
   "source": [
    "2cars = ('Ferarri', 'Mustang') # First character of a variable cannot be a digit\n"
   ]
  },
  {
   "cell_type": "code",
   "execution_count": null,
   "metadata": {},
   "outputs": [],
   "source": [
    "# Correction # no error\n",
    "c2ars = ('Ferarri', 'Mustang')"
   ]
  },
  {
   "cell_type": "markdown",
   "metadata": {},
   "source": [
    "23. Why does this if statement evaluate to true? \n",
    "You will see this shortcut a lot and it can be confusing as to what is going on. "
   ]
  },
  {
   "cell_type": "code",
   "execution_count": null,
   "metadata": {},
   "outputs": [],
   "source": [
    "some_list = ['fizz','buzz',1,{'key':'value'}]\n",
    "\n",
    "if some_list:\n",
    "    print('Hooray!') \n",
    "\n",
    "# if statement evaluates to true because some_list was not an empty variable. "
   ]
  },
  {
   "cell_type": "markdown",
   "metadata": {},
   "source": [
    "24. Write an expression that adds two numbers. "
   ]
  },
  {
   "cell_type": "code",
   "execution_count": 4,
   "metadata": {},
   "outputs": [
    {
     "name": "stdout",
     "output_type": "stream",
     "text": [
      "Enter a number x1 : 5\n",
      "Enter a number x2 : 12\n",
      "Sum of x1 and x2 :  17\n"
     ]
    }
   ],
   "source": [
    "x1 = int(input('Enter a number x1 : '))\n",
    "x2 = int(input('Enter a number x2 : '))\n",
    "x12 = x1 + x2\n",
    "print (\"Sum of x1 and x2 : \", x12) "
   ]
  },
  {
   "cell_type": "markdown",
   "metadata": {},
   "source": [
    "25. Write an expression that divides two numbers. "
   ]
  },
  {
   "cell_type": "code",
   "execution_count": 22,
   "metadata": {},
   "outputs": [
    {
     "name": "stdout",
     "output_type": "stream",
     "text": [
      "Enter a number m : 56\n",
      "Enter a number n : 2\n",
      "56 divided by 2  =  28.0\n"
     ]
    }
   ],
   "source": [
    "m = int(input('Enter a number m : '))\n",
    "n = int(input('Enter a number n : '))\n",
    "mbyn = m / n\n",
    "print (m, 'divided by',n,' = ', mbyn) "
   ]
  },
  {
   "cell_type": "markdown",
   "metadata": {},
   "source": [
    "26. Write an expression that raises one number to the power of 3. "
   ]
  },
  {
   "cell_type": "code",
   "execution_count": 5,
   "metadata": {},
   "outputs": [
    {
     "name": "stdout",
     "output_type": "stream",
     "text": [
      "Enter a number : 45\n",
      "45 raise to power 3 =  91125\n"
     ]
    }
   ],
   "source": [
    "num = int(input('Enter a number : '))\n",
    "num3 = num ** 3\n",
    "print (num,\"raise to power 3 = \", num3) "
   ]
  },
  {
   "cell_type": "markdown",
   "metadata": {},
   "source": [
    "27. You've been asked to do some semi-avanced mathematics and create a report. What module might you import to help make your job easier? \n",
    "\n",
    "Import this module below. (Hint: It's part of the Python Standard Library)"
   ]
  },
  {
   "cell_type": "code",
   "execution_count": 15,
   "metadata": {},
   "outputs": [
    {
     "name": "stdout",
     "output_type": "stream",
     "text": [
      "2.302585092994046\n",
      "2.718281828459045\n",
      "0.3010299956639812\n",
      "(0.6999999999999993, 22.0)\n"
     ]
    }
   ],
   "source": [
    "# math module can be imported in this scenario\n",
    "# This module defines often used matemetical expressions and constants\n",
    "\n",
    "import math\n",
    "\n",
    "print(math.log(10)) #Log of 10 to the base e\n",
    "\n",
    "print(math.e) #Value of e\n",
    "\n",
    "print(math.log10(2)) # log of 2 to the base 10\n",
    "\n",
    "print(math.modf(22.7)) # modf returns the fraction and integer parts of a float "
   ]
  },
  {
   "cell_type": "markdown",
   "metadata": {},
   "source": [
    "28. How can you change `my_var` form an `int` to a `str`?"
   ]
  },
  {
   "cell_type": "code",
   "execution_count": 33,
   "metadata": {},
   "outputs": [],
   "source": [
    "my_var = 42"
   ]
  },
  {
   "cell_type": "code",
   "execution_count": 34,
   "metadata": {},
   "outputs": [
    {
     "data": {
      "text/plain": [
       "str"
      ]
     },
     "execution_count": 34,
     "metadata": {},
     "output_type": "execute_result"
    }
   ],
   "source": [
    "# Changing type from int to string\n",
    "type(my_var)\n",
    "\n",
    "my_var = str(my_var)\n",
    "\n",
    "type(my_var)"
   ]
  },
  {
   "cell_type": "markdown",
   "metadata": {},
   "source": [
    "29. Slice `some_string` to only include the words `lazy`. "
   ]
  },
  {
   "cell_type": "code",
   "execution_count": 29,
   "metadata": {},
   "outputs": [],
   "source": [
    "some_string = \"The quick brown fox jumped over the lazy dog.\""
   ]
  },
  {
   "cell_type": "code",
   "execution_count": 30,
   "metadata": {},
   "outputs": [
    {
     "data": {
      "text/plain": [
       "'lazy'"
      ]
     },
     "execution_count": 30,
     "metadata": {},
     "output_type": "execute_result"
    }
   ],
   "source": [
    "# Slicing the word 'lazy'\n",
    "\n",
    "some_string[-9:-5]"
   ]
  },
  {
   "cell_type": "markdown",
   "metadata": {},
   "source": [
    "30. Assign a new variable `sport` to the 3rd element in the list."
   ]
  },
  {
   "cell_type": "code",
   "execution_count": 27,
   "metadata": {},
   "outputs": [],
   "source": [
    "my_favorite_teams= ['Chiefs', 'Cardinals', 'Blues', 'Lakers','Manchester United', 'Couch Surfing']"
   ]
  },
  {
   "cell_type": "code",
   "execution_count": 28,
   "metadata": {
    "scrolled": true
   },
   "outputs": [
    {
     "data": {
      "text/plain": [
       "['Chiefs',\n",
       " 'Cardinals',\n",
       " 'sport',\n",
       " 'Lakers',\n",
       " 'Manchester United',\n",
       " 'Couch Surfing']"
      ]
     },
     "execution_count": 28,
     "metadata": {},
     "output_type": "execute_result"
    }
   ],
   "source": [
    "# Assigned a new variable to the 3rd element in the list\n",
    "\n",
    "my_favorite_teams[2] = 'sport'\n",
    "my_favorite_teams"
   ]
  },
  {
   "cell_type": "markdown",
   "metadata": {},
   "source": [
    "**Optional Questions:**"
   ]
  },
  {
   "cell_type": "markdown",
   "metadata": {},
   "source": [
    "Write a function that takes in a number and doubles it. "
   ]
  },
  {
   "cell_type": "code",
   "execution_count": 16,
   "metadata": {},
   "outputs": [
    {
     "name": "stdout",
     "output_type": "stream",
     "text": [
      "Enter any number : 5.25\n",
      "Double of  5.25  is  10.5\n"
     ]
    }
   ],
   "source": [
    "in_num = float(input('Enter any number : '))\n",
    "db_num = 2 * in_num\n",
    "print('Double of ',in_num,\" is \",db_num)"
   ]
  },
  {
   "cell_type": "markdown",
   "metadata": {},
   "source": [
    "What is the use case for the `dir()` method? "
   ]
  },
  {
   "cell_type": "code",
   "execution_count": 12,
   "metadata": {},
   "outputs": [
    {
     "data": {
      "text/plain": [
       "['__add__',\n",
       " '__class__',\n",
       " '__contains__',\n",
       " '__delattr__',\n",
       " '__delitem__',\n",
       " '__dir__',\n",
       " '__doc__',\n",
       " '__eq__',\n",
       " '__format__',\n",
       " '__ge__',\n",
       " '__getattribute__',\n",
       " '__getitem__',\n",
       " '__gt__',\n",
       " '__hash__',\n",
       " '__iadd__',\n",
       " '__imul__',\n",
       " '__init__',\n",
       " '__init_subclass__',\n",
       " '__iter__',\n",
       " '__le__',\n",
       " '__len__',\n",
       " '__lt__',\n",
       " '__mul__',\n",
       " '__ne__',\n",
       " '__new__',\n",
       " '__reduce__',\n",
       " '__reduce_ex__',\n",
       " '__repr__',\n",
       " '__reversed__',\n",
       " '__rmul__',\n",
       " '__setattr__',\n",
       " '__setitem__',\n",
       " '__sizeof__',\n",
       " '__str__',\n",
       " '__subclasshook__',\n",
       " 'append',\n",
       " 'clear',\n",
       " 'copy',\n",
       " 'count',\n",
       " 'extend',\n",
       " 'index',\n",
       " 'insert',\n",
       " 'pop',\n",
       " 'remove',\n",
       " 'reverse',\n",
       " 'sort']"
      ]
     },
     "execution_count": 12,
     "metadata": {},
     "output_type": "execute_result"
    }
   ],
   "source": [
    "# dir() can be used to list all valid properties and methods of python functions and modules\n",
    "dir(list)"
   ]
  },
  {
   "cell_type": "markdown",
   "metadata": {},
   "source": [
    "Reverse the following string using only slicing methods."
   ]
  },
  {
   "cell_type": "code",
   "execution_count": 14,
   "metadata": {},
   "outputs": [],
   "source": [
    "irreversible = \"Can you reverse me?\""
   ]
  },
  {
   "cell_type": "code",
   "execution_count": 23,
   "metadata": {},
   "outputs": [
    {
     "name": "stdout",
     "output_type": "stream",
     "text": [
      "?em esrever uoy naC\n"
     ]
    }
   ],
   "source": [
    "strlen = len(irreversible)\n",
    "reverse = irreversible[::-1]\n",
    "print(reverse)"
   ]
  },
  {
   "cell_type": "code",
   "execution_count": null,
   "metadata": {},
   "outputs": [],
   "source": []
  },
  {
   "cell_type": "code",
   "execution_count": null,
   "metadata": {},
   "outputs": [],
   "source": []
  }
 ],
 "metadata": {
  "kernelspec": {
   "display_name": "Python 3 (ipykernel)",
   "language": "python",
   "name": "python3"
  },
  "language_info": {
   "codemirror_mode": {
    "name": "ipython",
    "version": 3
   },
   "file_extension": ".py",
   "mimetype": "text/x-python",
   "name": "python",
   "nbconvert_exporter": "python",
   "pygments_lexer": "ipython3",
   "version": "3.8.10"
  }
 },
 "nbformat": 4,
 "nbformat_minor": 4
}
