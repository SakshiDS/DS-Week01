{
 "cells": [
  {
   "cell_type": "code",
   "execution_count": 2,
   "id": "c61b52c2",
   "metadata": {},
   "outputs": [
    {
     "name": "stdout",
     "output_type": "stream",
     "text": [
      "Original String: Hello World!\n"
     ]
    }
   ],
   "source": [
    "\n",
    "\n",
    "# let us create a test string\n",
    "\n",
    "testString1 = \"Hello World!\"\n",
    "\n",
    "print (\"Original String: \"+ testString1)\n"
   ]
  },
  {
   "cell_type": "code",
   "execution_count": 4,
   "id": "3c2b593f",
   "metadata": {},
   "outputs": [
    {
     "name": "stdout",
     "output_type": "stream",
     "text": [
      "Converting to LowerCase\n",
      "hello world!\n"
     ]
    }
   ],
   "source": [
    "# Print this string in lower case\n",
    "\n",
    "# Converting a string to lower case\n",
    "print (\"Converting to LowerCase\")\n",
    "print (testString1.lower())"
   ]
  },
  {
   "cell_type": "code",
   "execution_count": 5,
   "id": "6e701e71",
   "metadata": {},
   "outputs": [
    {
     "name": "stdout",
     "output_type": "stream",
     "text": [
      "Converting to Upper Case\n",
      "HELLO WORLD!\n"
     ]
    }
   ],
   "source": [
    "# Converting a string to upper case\n",
    "print (\"Converting to Upper Case\")\n",
    "print (testString1.upper())"
   ]
  },
  {
   "cell_type": "code",
   "execution_count": 6,
   "id": "e13928e5",
   "metadata": {},
   "outputs": [
    {
     "name": "stdout",
     "output_type": "stream",
     "text": [
      "Capitalizing the String\n",
      "Hello world!\n"
     ]
    }
   ],
   "source": [
    "# Capitalizing a string\n",
    "# Only the first letter in the string will be capitalized\n",
    "print (\"Capitalizing the String\")\n",
    "print (testString1.capitalize())"
   ]
  },
  {
   "cell_type": "code",
   "execution_count": 7,
   "id": "5ff44014",
   "metadata": {},
   "outputs": [
    {
     "name": "stdout",
     "output_type": "stream",
     "text": [
      "Substring from index 1 to 7\n",
      "ello Wo\n"
     ]
    }
   ],
   "source": [
    "# Trying to slice out a substring between given indexes\n",
    "print (\"Substring from index 1 to 7\")\n",
    "print (testString1[1:8])"
   ]
  },
  {
   "cell_type": "code",
   "execution_count": 8,
   "id": "5628e7b1",
   "metadata": {},
   "outputs": [
    {
     "name": "stdout",
     "output_type": "stream",
     "text": [
      "Substring from the start till character at index = 7 (start of string is index 0): \n",
      "Hello Wo\n"
     ]
    }
   ],
   "source": [
    "#Substring from the start till character at index = 7 (start of string is index 0)\n",
    "print (\"Substring from the start till character at index = 7 (start of string is index 0): \")\n",
    "print (testString1[:8])"
   ]
  },
  {
   "cell_type": "code",
   "execution_count": 9,
   "id": "91ffd78e",
   "metadata": {},
   "outputs": [
    {
     "name": "stdout",
     "output_type": "stream",
     "text": [
      "Substring from the character at index = 7, till the end of the string (remember: start of string is index 0): \n",
      "orld!\n"
     ]
    }
   ],
   "source": [
    "#Substring from the character at index = 7, till the end of the string (remember: start of string is index 0)\n",
    "print (\"Substring from the character at index = 7, till the end of the string (remember: start of string is index 0): \")\n",
    "print (testString1[7:])\n"
   ]
  },
  {
   "cell_type": "code",
   "execution_count": 10,
   "id": "80f393f5",
   "metadata": {},
   "outputs": [],
   "source": [
    "#Find the position of a  substring within the string"
   ]
  },
  {
   "cell_type": "code",
   "execution_count": 11,
   "id": "9b7e1319",
   "metadata": {},
   "outputs": [
    {
     "name": "stdout",
     "output_type": "stream",
     "text": [
      "Find the index from which the substring 'llo' begins within the test string\n",
      "2\n"
     ]
    }
   ],
   "source": [
    "#This gives us the first index during a left to right scan. If the string is not found, it returns -1\n",
    "print (\"Find the index from which the substring 'llo' begins within the test string\")\n",
    "print (testString1.find('llo'))"
   ]
  },
  {
   "cell_type": "code",
   "execution_count": 13,
   "id": "88378eb2",
   "metadata": {},
   "outputs": [
    {
     "name": "stdout",
     "output_type": "stream",
     "text": [
      "Now, let's look for a substring which is not a part of the given string\n",
      "-1\n"
     ]
    }
   ],
   "source": [
    "print (\"Now, let's look for a substring which is not a part of the given string\")\n",
    "print (testString1.find('xxy'))"
   ]
  },
  {
   "cell_type": "code",
   "execution_count": 14,
   "id": "1cdf0db1",
   "metadata": {},
   "outputs": [
    {
     "name": "stdout",
     "output_type": "stream",
     "text": [
      "Now, trying to find a substring between specified indexes only: looking for 'l' between 4 and 9\n",
      "-1\n"
     ]
    }
   ],
   "source": [
    "# Now, trying to find the index of a substring between specified indexes only\n",
    "print (\"Now, trying to find a substring between specified indexes only: looking for 'l' between 4 and 9\")\n",
    "print (testString1.find('l',4,9))"
   ]
  },
  {
   "cell_type": "code",
   "execution_count": 15,
   "id": "5ac9b587",
   "metadata": {},
   "outputs": [
    {
     "name": "stdout",
     "output_type": "stream",
     "text": [
      "find('l') on the given string returns the following index (scanning the string from left to right):\n",
      "2\n",
      "rfind('l') on the given string returns the following index (this scans the string from right to left):\n",
      "9\n"
     ]
    }
   ],
   "source": [
    "# rfind is used, to find the index from the reverse\n",
    "# So, testString1.rfind('l') will look for the last index of l in the string\n",
    "print (\"find('l') on the given string returns the following index (scanning the string from left to right):\")\n",
    "print (testString1.find('l'))\n",
    "\n",
    "print (\"rfind('l') on the given string returns the following index (this scans the string from right to left):\")\n",
    "print (testString1.rfind('l'))"
   ]
  },
  {
   "cell_type": "code",
   "execution_count": 17,
   "id": "10e964f9",
   "metadata": {},
   "outputs": [
    {
     "name": "stdout",
     "output_type": "stream",
     "text": [
      "Replacing World with Planet\n",
      "Hello Planet!\n"
     ]
    }
   ],
   "source": [
    "# Now let us try to replace/substitute a substring of this string with another string\n",
    "print (\"Replacing World with Planet\")\n",
    "print (testString1.replace(\"World\",\"Planet\"))"
   ]
  },
  {
   "cell_type": "code",
   "execution_count": 18,
   "id": "3541be72",
   "metadata": {},
   "outputs": [
    {
     "name": "stdout",
     "output_type": "stream",
     "text": [
      "Splitting the string into words, wherever there is a space\n",
      "['Hello', 'World!']\n",
      "['Hello', 'World!']\n"
     ]
    }
   ],
   "source": [
    "# Now let us try to split the string, into separate words\n",
    "# let us split it wherever there is a space\n",
    "print (\"Splitting the string into words, wherever there is a space\")\n",
    "print (testString1.split(\" \"))\n",
    "print (testString1.rsplit(\" \"))"
   ]
  },
  {
   "cell_type": "code",
   "execution_count": 21,
   "id": "a3ca7c23",
   "metadata": {},
   "outputs": [
    {
     "name": "stdout",
     "output_type": "stream",
     "text": [
      "Current Test String=Hello World!  \n",
      "Length (there are whitespaces at the end):14\n",
      "Length after stripping 12\n"
     ]
    }
   ],
   "source": [
    "# Remove leading and trailing whitespace characters\n",
    "testString2 = \"Hello World!  \"\n",
    "print (\"Current Test String=\" + testString2)\n",
    "print (\"Length (there are whitespaces at the end):\" + str(len(testString2)))\n",
    "print (\"Length after stripping \"+ str(len(testString2.strip())))"
   ]
  },
  {
   "cell_type": "code",
   "execution_count": null,
   "id": "40e77cce",
   "metadata": {},
   "outputs": [],
   "source": []
  }
 ],
 "metadata": {
  "kernelspec": {
   "display_name": "Python 3 (ipykernel)",
   "language": "python",
   "name": "python3"
  },
  "language_info": {
   "codemirror_mode": {
    "name": "ipython",
    "version": 3
   },
   "file_extension": ".py",
   "mimetype": "text/x-python",
   "name": "python",
   "nbconvert_exporter": "python",
   "pygments_lexer": "ipython3",
   "version": "3.8.10"
  }
 },
 "nbformat": 4,
 "nbformat_minor": 5
}
